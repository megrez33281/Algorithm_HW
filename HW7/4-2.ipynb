{
 "cells": [
  {
   "cell_type": "code",
   "execution_count": 15,
   "id": "9792caf2-14f6-4582-8dca-3b19939bc3ca",
   "metadata": {
    "tags": []
   },
   "outputs": [
    {
     "data": {
      "image/png": "[encoded data removed]",
      "text/plain": [
       "<Figure size 203.885x535.111 with 1 Axes>"
      ]
     },
     "execution_count": 15,
     "metadata": {},
     "output_type": "execute_result"
    }
   ],
   "source": [
    "#Exercise 4-2\n",
    "from qiskit import QuantumCircuit\n",
    "import math\n",
    "qc = QuantumCircuit(6)\n",
    "qc.mcx([0,1,2,3,4],5,mode='noancilla') #將第0，1，2，3，4位元設為控制位元，第5位元設為目標位元\n",
    "qc.draw('mpl')"
   ]
  },
  {
   "cell_type": "code",
   "execution_count": null,
   "id": "7c511e46-303f-4429-a219-ffe35f849fc3",
   "metadata": {},
   "outputs": [],
   "source": []
  }
 ],
 "metadata": {
  "kernelspec": {
   "display_name": "Python 3 (ipykernel)",
   "language": "python",
   "name": "python3"
  },
  "language_info": {
   "codemirror_mode": {
    "name": "ipython",
    "version": 3
   },
   "file_extension": ".py",
   "mimetype": "text/x-python",
   "name": "python",
   "nbconvert_exporter": "python",
   "pygments_lexer": "ipython3",
   "version": "3.10.8"
  },
  "widgets": {
   "application/vnd.jupyter.widget-state+json": {
    "state": {
     "0ca6f314e3174e3fb89d8ca27e91d04a": {
      "model_module": "@jupyter-widgets/controls",
      "model_module_version": "2.0.0",
      "model_name": "HTMLModel",
      "state": {
       "layout": "IPY_MODEL_4cc3513b1fa141abade93024144ade45",
       "style": "IPY_MODEL_57b48f9db6b748fb926594477cb4f4b6",
       "value": "<h5>Status</h5>"
      }
     },
     "123b8081053f4f6aaad37d574f4b3ebe": {
      "model_module": "@jupyter-widgets/controls",
      "model_module_version": "2.0.0",
      "model_name": "HTMLModel",
      "state": {
       "layout": "IPY_MODEL_c3a9595364d24cd19ba45c815bcca3f0",
       "style": "IPY_MODEL_1d66e4ce89b54db790ed61077b12f91f",
       "value": "<p style='font-family: IBM Plex Sans, Arial, Helvetica, sans-serif; font-size: 20px; font-weight: medium;'>Circuit Properties</p>"
      }
     },
     "1bbb821dacf144aaa97d6f905967090c": {
      "model_module": "@jupyter-widgets/controls",
      "model_module_version": "2.0.0",
      "model_name": "GridBoxModel",
      "state": {
       "children": [
        "IPY_MODEL_4bb87a6e50a54dcb9a96c0dbf7b58ce1"
       ],
       "layout": "IPY_MODEL_9c56edbd5bb14500a92b2b7a72153312"
      }
     },
     "1d66e4ce89b54db790ed61077b12f91f": {
      "model_module": "@jupyter-widgets/controls",
      "model_module_version": "2.0.0",
      "model_name": "HTMLStyleModel",
      "state": {
       "description_width": "",
       "font_size": null,
       "text_color": null
      }
     },
     "23220adbde894353b186a872a1ea3855": {
      "model_module": "@jupyter-widgets/controls",
      "model_module_version": "2.0.0",
      "model_name": "ButtonStyleModel",
      "state": {
       "font_family": null,
       "font_size": null,
       "font_style": null,
       "font_variant": null,
       "font_weight": null,
       "text_color": null,
       "text_decoration": null
      }
     },
     "32da51ac51fc456eab7f609bab580247": {
      "model_module": "@jupyter-widgets/controls",
      "model_module_version": "2.0.0",
      "model_name": "HTMLStyleModel",
      "state": {
       "description_width": "",
       "font_size": null,
       "text_color": null
      }
     },
     "4bb87a6e50a54dcb9a96c0dbf7b58ce1": {
      "model_module": "@jupyter-widgets/controls",
      "model_module_version": "2.0.0",
      "model_name": "ButtonModel",
      "state": {
       "button_style": "primary",
       "description": "Clear",
       "layout": "IPY_MODEL_f78cfa6c79ff493ba751d17260079f96",
       "style": "IPY_MODEL_23220adbde894353b186a872a1ea3855",
       "tooltip": null
      }
     },
     "4cc3513b1fa141abade93024144ade45": {
      "model_module": "@jupyter-widgets/base",
      "model_module_version": "2.0.0",
      "model_name": "LayoutModel",
      "state": {
       "width": "95px"
      }
     },
     "57b48f9db6b748fb926594477cb4f4b6": {
      "model_module": "@jupyter-widgets/controls",
      "model_module_version": "2.0.0",
      "model_name": "HTMLStyleModel",
      "state": {
       "description_width": "",
       "font_size": null,
       "text_color": null
      }
     },
     "63e3e416d535439db631ec357bae45a0": {
      "model_module": "@jupyter-widgets/controls",
      "model_module_version": "2.0.0",
      "model_name": "HBoxModel",
      "state": {
       "children": [
        "IPY_MODEL_6d0ee4094cfb479eae4c112bcf1cd653",
        "IPY_MODEL_e8608db834f14cb0bd85d4df5ffb479d",
        "IPY_MODEL_0ca6f314e3174e3fb89d8ca27e91d04a",
        "IPY_MODEL_6fe135ede6834a518c1f59eb6406319a",
        "IPY_MODEL_8fbe0cbc4e454b57aefaa8bedc8f01a4"
       ],
       "layout": "IPY_MODEL_d1630bb49b824589affd870816770533"
      }
     },
     "6d0ee4094cfb479eae4c112bcf1cd653": {
      "model_module": "@jupyter-widgets/controls",
      "model_module_version": "2.0.0",
      "model_name": "HTMLModel",
      "state": {
       "layout": "IPY_MODEL_adb0d509b00f4e059a5aed4381f522b1",
       "style": "IPY_MODEL_8f0796eb5bb44acd9b4e925c94fda15b",
       "value": "<h5>Job ID</h5>"
      }
     },
     "6fe135ede6834a518c1f59eb6406319a": {
      "model_module": "@jupyter-widgets/controls",
      "model_module_version": "2.0.0",
      "model_name": "HTMLModel",
      "state": {
       "layout": "IPY_MODEL_8b5b55be072e4da0ad0ef68eff7eb943",
       "style": "IPY_MODEL_32da51ac51fc456eab7f609bab580247",
       "value": "<h5>Queue</h5>"
      }
     },
     "8b5b55be072e4da0ad0ef68eff7eb943": {
      "model_module": "@jupyter-widgets/base",
      "model_module_version": "2.0.0",
      "model_name": "LayoutModel",
      "state": {
       "width": "70px"
      }
     },
     "8f0796eb5bb44acd9b4e925c94fda15b": {
      "model_module": "@jupyter-widgets/controls",
      "model_module_version": "2.0.0",
      "model_name": "HTMLStyleModel",
      "state": {
       "description_width": "",
       "font_size": null,
       "text_color": null
      }
     },
     "8fbe0cbc4e454b57aefaa8bedc8f01a4": {
      "model_module": "@jupyter-widgets/controls",
      "model_module_version": "2.0.0",
      "model_name": "HTMLModel",
      "state": {
       "layout": "IPY_MODEL_b9ffb9d16fde4b55b62431d033cf45f2",
       "style": "IPY_MODEL_c27a3da283b4464796a75d00852694bf",
       "value": "<h5>Message</h5>"
      }
     },
     "9c56edbd5bb14500a92b2b7a72153312": {
      "model_module": "@jupyter-widgets/base",
      "model_module_version": "2.0.0",
      "model_name": "LayoutModel",
      "state": {
       "grid_template_areas": "\n                                       \". . . . right \"\n                                        ",
       "grid_template_columns": "20% 20% 20% 20% 20%",
       "width": "100%"
      }
     },
     "adb0d509b00f4e059a5aed4381f522b1": {
      "model_module": "@jupyter-widgets/base",
      "model_module_version": "2.0.0",
      "model_name": "LayoutModel",
      "state": {
       "width": "190px"
      }
     },
     "b9ffb9d16fde4b55b62431d033cf45f2": {
      "model_module": "@jupyter-widgets/base",
      "model_module_version": "2.0.0",
      "model_name": "LayoutModel",
      "state": {}
     },
     "c13506b9d83b44dfa046bf9b31d96d1a": {
      "model_module": "@jupyter-widgets/base",
      "model_module_version": "2.0.0",
      "model_name": "LayoutModel",
      "state": {
       "width": "145px"
      }
     },
     "c27a3da283b4464796a75d00852694bf": {
      "model_module": "@jupyter-widgets/controls",
      "model_module_version": "2.0.0",
      "model_name": "HTMLStyleModel",
      "state": {
       "description_width": "",
       "font_size": null,
       "text_color": null
      }
     },
     "c2be6721dd9648c0832731c8ff0faa05": {
      "model_module": "@jupyter-widgets/controls",
      "model_module_version": "2.0.0",
      "model_name": "HTMLStyleModel",
      "state": {
       "description_width": "",
       "font_size": null,
       "text_color": null
      }
     },
     "c3a9595364d24cd19ba45c815bcca3f0": {
      "model_module": "@jupyter-widgets/base",
      "model_module_version": "2.0.0",
      "model_name": "LayoutModel",
      "state": {
       "margin": "0px 0px 10px 0px"
      }
     },
     "d1630bb49b824589affd870816770533": {
      "model_module": "@jupyter-widgets/base",
      "model_module_version": "2.0.0",
      "model_name": "LayoutModel",
      "state": {
       "margin": "0px 0px 0px 37px",
       "width": "600px"
      }
     },
     "e8608db834f14cb0bd85d4df5ffb479d": {
      "model_module": "@jupyter-widgets/controls",
      "model_module_version": "2.0.0",
      "model_name": "HTMLModel",
      "state": {
       "layout": "IPY_MODEL_c13506b9d83b44dfa046bf9b31d96d1a",
       "style": "IPY_MODEL_c2be6721dd9648c0832731c8ff0faa05",
       "value": "<h5>Backend</h5>"
      }
     },
     "f78cfa6c79ff493ba751d17260079f96": {
      "model_module": "@jupyter-widgets/base",
      "model_module_version": "2.0.0",
      "model_name": "LayoutModel",
      "state": {
       "grid_area": "right",
       "padding": "0px 0px 0px 0px",
       "width": "70px"
      }
     }
    },
    "version_major": 2,
    "version_minor": 0
   }
  }
 },
 "nbformat": 4,
 "nbformat_minor": 5
}
