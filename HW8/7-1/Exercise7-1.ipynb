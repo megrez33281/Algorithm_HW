{
 "cells": [
  {
   "cell_type": "code",
   "execution_count": null,
   "id": "d31c5c90-90c8-4aa5-a62b-74f6f8f0df9e",
   "metadata": {},
   "outputs": [],
   "source": [
    "#Exercise7-1\n",
    "from qiskit import QuantumCircuit, QuantumRegister\n",
    "from qiskit.quantum_info import Statevector\n",
    "from math import pi\n",
    "def qft(n): \n",
    "    #量子傅立葉變換\n",
    "    ar = QuantumRegister(n,'a')\n",
    "    qc = QuantumCircuit(ar)\n",
    "    for hbit in range(n-1,-1,-1):\n",
    "        qc.h(hbit)#添加h閘\n",
    "        for cbit in range(hbit):\n",
    "            qc.cp(pi/2**(hbit-cbit),cbit,hbit)#添加control p閘\n",
    "    for bit in range(n//2):\n",
    "        qc.swap(bit,n-bit-1)#添加swap\n",
    "\n",
    "    return qc\n",
    "\n",
    "def iqft(n):\n",
    "    #逆進行量子傅立葉變換\n",
    "    br = QuantumRegister(n,'b')\n",
    "    qc = QuantumCircuit(br)\n",
    "    for sbit in range(n//2):\n",
    "        qc.swap(sbit,n-sbit-1)#添加swap\n",
    "    for hbit in range(0,n,1):\n",
    "        for cbit in range(hbit-1,-1,-1):\n",
    "            qc.cp(-pi/2**(hbit-cbit),cbit,hbit)#添加control p閘\n",
    "        qc.h(hbit)#添加h閘\n",
    "    return qc\n",
    "\n",
    "qc = QuantumCircuit(5)\n",
    "qc.initialize('11011',range(5))#初始化\n",
    "state0 = Statevector.from_instruction(qc)\n",
    "qc.append(qft(5).to_gate(label='QFT'),range(5))#進行量子傅立葉變換\n",
    "state1 = Statevector.from_instruction(qc)\n",
    "qc.append(iqft(5).to_gate(label='IQFT'),range(5))#進行逆量子傅立葉變換\n",
    "state2 = Statevector.from_instruction(qc)\n",
    "\n",
    "print(\"Statevector before QFT:\")\n",
    "display(state0.draw('bloch'))\n",
    "print(\"Statevector after QFT:\")\n",
    "display(state1.draw('bloch'))\n",
    "print(\"Statevector after IQFT:\")\n",
    "display(state2.draw('bloch'))\n",
    "display(qc.draw('mpl'))"
   ]
  }
 ],
 "metadata": {
  "kernelspec": {
   "display_name": "Python 3 (ipykernel)",
   "language": "python",
   "name": "python3"
  },
  "language_info": {
   "codemirror_mode": {
    "name": "ipython",
    "version": 3
   },
   "file_extension": ".py",
   "mimetype": "text/x-python",
   "name": "python",
   "nbconvert_exporter": "python",
   "pygments_lexer": "ipython3",
   "version": "3.10.8"
  },
  "widgets": {
   "application/vnd.jupyter.widget-state+json": {
    "state": {
     "022fca2cc7444499a4ee1c9fdfb04021": {
      "model_module": "@jupyter-widgets/base",
      "model_module_version": "2.0.0",
      "model_name": "LayoutModel",
      "state": {
       "grid_area": "right",
       "padding": "0px 0px 0px 0px",
       "width": "70px"
      }
     },
     "032c873720764434815abfcc64524767": {
      "model_module": "@jupyter-widgets/base",
      "model_module_version": "2.0.0",
      "model_name": "LayoutModel",
      "state": {
       "width": "190px"
      }
     },
     "08018133103e4dd0a12a0ee542a309d0": {
      "model_module": "@jupyter-widgets/controls",
      "model_module_version": "2.0.0",
      "model_name": "HTMLStyleModel",
      "state": {
       "description_width": "",
       "font_size": null,
       "text_color": null
      }
     },
     "1dcb1c02bb7f4cc6abe6de669dc2c795": {
      "model_module": "@jupyter-widgets/controls",
      "model_module_version": "2.0.0",
      "model_name": "HTMLStyleModel",
      "state": {
       "description_width": "",
       "font_size": null,
       "text_color": null
      }
     },
     "1ebff04c6fcc48dca47cb0888ef4cc33": {
      "model_module": "@jupyter-widgets/controls",
      "model_module_version": "2.0.0",
      "model_name": "HTMLStyleModel",
      "state": {
       "description_width": "",
       "font_size": null,
       "text_color": null
      }
     },
     "1fb5b949aa0547f3a348d2753d7453f6": {
      "model_module": "@jupyter-widgets/base",
      "model_module_version": "2.0.0",
      "model_name": "LayoutModel",
      "state": {
       "width": "70px"
      }
     },
     "375a2454c33b4a06838fda9e78565eec": {
      "model_module": "@jupyter-widgets/controls",
      "model_module_version": "2.0.0",
      "model_name": "HTMLStyleModel",
      "state": {
       "description_width": "",
       "font_size": null,
       "text_color": null
      }
     },
     "3cd3ebd0a7874f4894cabefac7807344": {
      "model_module": "@jupyter-widgets/controls",
      "model_module_version": "2.0.0",
      "model_name": "GridBoxModel",
      "state": {
       "children": [
        "IPY_MODEL_c7629855f8964230ada5a482d9a865c0"
       ],
       "layout": "IPY_MODEL_4f46de83f1324cc58d4cdcbde448cf81"
      }
     },
     "3eda6b8c903142f8988f6c91696d41bd": {
      "model_module": "@jupyter-widgets/controls",
      "model_module_version": "2.0.0",
      "model_name": "HBoxModel",
      "state": {
       "children": [
        "IPY_MODEL_b9c89629d8224270a43dc1fd794d3be9",
        "IPY_MODEL_aa066e13057f429993d32bdaabfcbfbf",
        "IPY_MODEL_5d1d705abd6f460690b5571f6f252eac",
        "IPY_MODEL_e79e3616286f4207a3c486a01bb992d4",
        "IPY_MODEL_a67e639ebc7c4345a1a8029fd19c81cc"
       ],
       "layout": "IPY_MODEL_a8c1850fa6fe4bed86283af401802ca7"
      }
     },
     "409850fb8a7e44e5aaab4f556273094b": {
      "model_module": "@jupyter-widgets/controls",
      "model_module_version": "2.0.0",
      "model_name": "HTMLModel",
      "state": {
       "layout": "IPY_MODEL_a69b2b578edc4290a6c73ebc673f0cf0",
       "style": "IPY_MODEL_e5aed7bf1d6f49dd8af4b7a079f66cc5",
       "value": "<p style='font-family: IBM Plex Sans, Arial, Helvetica, sans-serif; font-size: 20px; font-weight: medium;'>Circuit Properties</p>"
      }
     },
     "4f46de83f1324cc58d4cdcbde448cf81": {
      "model_module": "@jupyter-widgets/base",
      "model_module_version": "2.0.0",
      "model_name": "LayoutModel",
      "state": {
       "grid_template_areas": "\n                                       \". . . . right \"\n                                        ",
       "grid_template_columns": "20% 20% 20% 20% 20%",
       "width": "100%"
      }
     },
     "5d1d705abd6f460690b5571f6f252eac": {
      "model_module": "@jupyter-widgets/controls",
      "model_module_version": "2.0.0",
      "model_name": "HTMLModel",
      "state": {
       "layout": "IPY_MODEL_fcaa1eb56c8f42ef9df927bffb5d518b",
       "style": "IPY_MODEL_1dcb1c02bb7f4cc6abe6de669dc2c795",
       "value": "<h5>Status</h5>"
      }
     },
     "66578d1599ba43fd95b219bbcbdc9588": {
      "model_module": "@jupyter-widgets/base",
      "model_module_version": "2.0.0",
      "model_name": "LayoutModel",
      "state": {}
     },
     "9e97ba36f9044c009b30b6c0d7dc90f9": {
      "model_module": "@jupyter-widgets/controls",
      "model_module_version": "2.0.0",
      "model_name": "HTMLStyleModel",
      "state": {
       "description_width": "",
       "font_size": null,
       "text_color": null
      }
     },
     "a67e639ebc7c4345a1a8029fd19c81cc": {
      "model_module": "@jupyter-widgets/controls",
      "model_module_version": "2.0.0",
      "model_name": "HTMLModel",
      "state": {
       "layout": "IPY_MODEL_66578d1599ba43fd95b219bbcbdc9588",
       "style": "IPY_MODEL_1ebff04c6fcc48dca47cb0888ef4cc33",
       "value": "<h5>Message</h5>"
      }
     },
     "a69b2b578edc4290a6c73ebc673f0cf0": {
      "model_module": "@jupyter-widgets/base",
      "model_module_version": "2.0.0",
      "model_name": "LayoutModel",
      "state": {
       "margin": "0px 0px 10px 0px"
      }
     },
     "a8c1850fa6fe4bed86283af401802ca7": {
      "model_module": "@jupyter-widgets/base",
      "model_module_version": "2.0.0",
      "model_name": "LayoutModel",
      "state": {
       "margin": "0px 0px 0px 37px",
       "width": "600px"
      }
     },
     "aa066e13057f429993d32bdaabfcbfbf": {
      "model_module": "@jupyter-widgets/controls",
      "model_module_version": "2.0.0",
      "model_name": "HTMLModel",
      "state": {
       "layout": "IPY_MODEL_d90aab1dbd7b440dac61c160af415bdd",
       "style": "IPY_MODEL_375a2454c33b4a06838fda9e78565eec",
       "value": "<h5>Backend</h5>"
      }
     },
     "b9c89629d8224270a43dc1fd794d3be9": {
      "model_module": "@jupyter-widgets/controls",
      "model_module_version": "2.0.0",
      "model_name": "HTMLModel",
      "state": {
       "layout": "IPY_MODEL_032c873720764434815abfcc64524767",
       "style": "IPY_MODEL_08018133103e4dd0a12a0ee542a309d0",
       "value": "<h5>Job ID</h5>"
      }
     },
     "bcb208146fda4d4aad299cb048accdbb": {
      "model_module": "@jupyter-widgets/controls",
      "model_module_version": "2.0.0",
      "model_name": "ButtonStyleModel",
      "state": {
       "font_family": null,
       "font_size": null,
       "font_style": null,
       "font_variant": null,
       "font_weight": null,
       "text_color": null,
       "text_decoration": null
      }
     },
     "c7629855f8964230ada5a482d9a865c0": {
      "model_module": "@jupyter-widgets/controls",
      "model_module_version": "2.0.0",
      "model_name": "ButtonModel",
      "state": {
       "button_style": "primary",
       "description": "Clear",
       "layout": "IPY_MODEL_022fca2cc7444499a4ee1c9fdfb04021",
       "style": "IPY_MODEL_bcb208146fda4d4aad299cb048accdbb",
       "tooltip": null
      }
     },
     "d90aab1dbd7b440dac61c160af415bdd": {
      "model_module": "@jupyter-widgets/base",
      "model_module_version": "2.0.0",
      "model_name": "LayoutModel",
      "state": {
       "width": "145px"
      }
     },
     "e5aed7bf1d6f49dd8af4b7a079f66cc5": {
      "model_module": "@jupyter-widgets/controls",
      "model_module_version": "2.0.0",
      "model_name": "HTMLStyleModel",
      "state": {
       "description_width": "",
       "font_size": null,
       "text_color": null
      }
     },
     "e79e3616286f4207a3c486a01bb992d4": {
      "model_module": "@jupyter-widgets/controls",
      "model_module_version": "2.0.0",
      "model_name": "HTMLModel",
      "state": {
       "layout": "IPY_MODEL_1fb5b949aa0547f3a348d2753d7453f6",
       "style": "IPY_MODEL_9e97ba36f9044c009b30b6c0d7dc90f9",
       "value": "<h5>Queue</h5>"
      }
     },
     "fcaa1eb56c8f42ef9df927bffb5d518b": {
      "model_module": "@jupyter-widgets/base",
      "model_module_version": "2.0.0",
      "model_name": "LayoutModel",
      "state": {
       "width": "95px"
      }
     }
    },
    "version_major": 2,
    "version_minor": 0
   }
  }
 },
 "nbformat": 4,
 "nbformat_minor": 5
}
