{
 "cells": [
  {
   "cell_type": "code",
   "execution_count": 5,
   "id": "af8e794c-7973-49bb-8f24-815685d4e25b",
   "metadata": {
    "tags": []
   },
   "outputs": [
    {
     "data": {
      "image/png": "[encoded data removed]",
      "text/plain": [
       "<Figure size 403.155x284.278 with 1 Axes>"
      ]
     },
     "metadata": {},
     "output_type": "display_data"
    },
    {
     "data": {
      "text/latex": [
       "$$\n",
       "\\text{CNOT (MSB as target bit) = }\n",
       "\\begin{bmatrix}\n",
       "\\frac{1}{2} & \\frac{1}{2} & \\frac{1}{2} & \\frac{1}{2}  \\\\\n",
       " - \\frac{1}{2} & \\frac{1}{2} & \\frac{1}{2} & - \\frac{1}{2}  \\\\\n",
       " - \\frac{1}{2} & - \\frac{1}{2} & \\frac{1}{2} & \\frac{1}{2}  \\\\\n",
       " \\frac{1}{2} & - \\frac{1}{2} & \\frac{1}{2} & - \\frac{1}{2}  \\\\\n",
       " \\end{bmatrix}\n",
       "$$"
      ],
      "text/plain": [
       "<IPython.core.display.Latex object>"
      ]
     },
     "metadata": {},
     "output_type": "display_data"
    },
    {
     "name": "stdout",
     "output_type": "stream",
     "text": [
      "[['0.50-0.00j', '0.50-0.00j', '0.50+0.00j', '0.50-0.00j'], ['-0.50+0.00j', '0.50-0.00j', '0.50+0.00j', '-0.50+0.00j'], ['-0.50+0.00j', '-0.50+0.00j', '0.50+0.00j', '0.50-0.00j'], ['0.50-0.00j', '-0.50+0.00j', '0.50+0.00j', '-0.50+0.00j']]\n"
     ]
    }
   ],
   "source": [
    "from qiskit import QuantumCircuit,QuantumRegister,ClassicalRegister, Aer\n",
    "from qiskit.visualization import array_to_latex\n",
    "import numpy as np\n",
    "\n",
    "vreg = QuantumRegister(2,'v')\n",
    "cbits_reg = ClassicalRegister(2,'cbits')\n",
    "qc = QuantumCircuit(vreg,cbits_reg)\n",
    "qc.x(vreg[1])\n",
    "qc.h(vreg)\n",
    "qc.cx(vreg[0],vreg[1])\n",
    "display(qc.draw('mpl'))\n",
    "\n",
    "sim = Aer.get_backend('aer_simulator')\n",
    "qc.save_unitary()\n",
    "unitary = sim.run(qc).result().get_unitary()\n",
    "display(array_to_latex(unitary,prefix=\"\\\\text{CNOT (MSB as target bit) = }\"))\n",
    "print([['{:.2f}'.format(item) for item in sublist] for sublist in np.array(unitary)])\n"
   ]
  },
  {
   "cell_type": "code",
   "execution_count": 10,
   "id": "cef2fdca-f845-4dfd-9023-64b79a02ec63",
   "metadata": {
    "tags": []
   },
   "outputs": [
    {
     "name": "stdout",
     "output_type": "stream",
     "text": [
      "input --> output\n",
      "0000 0 --> 0000 0\n",
      "0000 1 --> 0000 1\n",
      "0001 0 --> 0001 0\n",
      "0001 1 --> 0001 1\n",
      "0010 0 --> 0010 0\n",
      "0010 1 --> 0010 1\n",
      "0011 0 --> 0011 0\n",
      "0011 1 --> 0011 1\n",
      "0100 0 --> 0100 0\n",
      "0100 1 --> 0100 1\n",
      "0101 0 --> 0101 0\n",
      "0101 1 --> 0101 1\n",
      "0110 0 --> 0110 0\n",
      "0110 1 --> 0110 1\n",
      "0111 0 --> 0111 0\n",
      "0111 1 --> 0111 1\n",
      "1000 0 --> 1000 0\n",
      "1000 1 --> 1000 1\n",
      "1001 0 --> 1001 0\n",
      "1001 1 --> 1001 1\n",
      "1010 0 --> 1010 1 the output is different than the input\n",
      "1010 1 --> 1010 0 the output is different than the input\n",
      "1011 0 --> 1011 0\n",
      "1011 1 --> 1011 1\n",
      "1100 0 --> 1100 0\n",
      "1100 1 --> 1100 1\n",
      "1101 0 --> 1101 0\n",
      "1101 1 --> 1101 1\n",
      "1110 0 --> 1110 0\n",
      "1110 1 --> 1110 1\n",
      "1111 0 --> 1111 0\n",
      "1111 1 --> 1111 1\n"
     ]
    }
   ],
   "source": [
    "from qiskit import QuantumRegister, ClassicalRegister, QuantumCircuit, execute, Aer\n",
    "\n",
    "all_inputs=[]\n",
    "for q4 in ['0','1']: \n",
    "    for q3 in ['0','1']:\n",
    "        for q2 in ['0','1']:\n",
    "            for q1 in ['0','1']:\n",
    "                for q0 in ['0','1']:\n",
    "                    all_inputs.append(q4+q3+q2+q1+q0)\n",
    "#print(all_inputs)  \n",
    "\n",
    "print(\"input --> output\")\n",
    "for the_input in all_inputs:\n",
    "    # create the circuit\n",
    "    qaux = QuantumRegister(2,\"qaux\")\n",
    "    q = QuantumRegister(5,\"q\")\n",
    "    c = ClassicalRegister(5,\"c\")\n",
    "    qc = QuantumCircuit(q,qaux,c)\n",
    "    # set the initial value of the circuit w.r.t. the input\n",
    "    if the_input[0] =='1': qc.x(q[4])\n",
    "    if the_input[1] =='1': qc.x(q[3])\n",
    "    if the_input[2] =='1': qc.x(q[2])\n",
    "    if the_input[3] =='1': qc.x(q[1])\n",
    "    if the_input[4] =='1': qc.x(q[0])\n",
    "    #\n",
    "    # your code is here\n",
    "    qc.x(q[1])\n",
    "    qc.x(q[3])\n",
    "    qc.ccx(q[1],q[2],qaux[0])\n",
    "    qc.ccx(q[3],q[4],qaux[1])\n",
    "    qc.ccx(qaux[0],qaux[1],q[0]) #此處錯誤，q0變成目標位元，q1~q4變成控制位元\n",
    "    qc.ccx(q[1],q[2],qaux[0])\n",
    "    qc.ccx(q[3],q[4],qaux[1])\n",
    "    qc.x(q[1])\n",
    "    qc.x(q[3])\n",
    "    #\n",
    "    # measure the main quantum register \n",
    "    qc.measure(q,c)\n",
    "    # execute the circuit\n",
    "    job = execute(qc,Aer.get_backend('qasm_simulator'),shots=1)\n",
    "    counts = job.result().get_counts(qc)\n",
    "    for key in counts: the_output = key\n",
    "    printed_str = the_input[0:4]+\" \"+the_input[4]+\" --> \"+the_output[0:4]+\" \"+the_output[4]\n",
    "    if (the_input!=the_output): printed_str = printed_str + \" the output is different than the input\"\n",
    "    print(printed_str)\n"
   ]
  },
  {
   "cell_type": "code",
   "execution_count": 11,
   "id": "000fb117-8f49-4e0d-8090-74caddadaae2",
   "metadata": {
    "tags": []
   },
   "outputs": [
    {
     "name": "stdin",
     "output_type": "stream",
     "text": [
      " 2\n",
      " 1\n"
     ]
    },
    {
     "name": "stdout",
     "output_type": "stream",
     "text": [
      "1111\n"
     ]
    },
    {
     "name": "stdin",
     "output_type": "stream",
     "text": [
      " 2\n"
     ]
    },
    {
     "name": "stdout",
     "output_type": "stream",
     "text": [
      "0000\n"
     ]
    }
   ],
   "source": [
    "from qiskit import QuantumRegister, QuantumCircuit, ClassicalRegister,execute\n",
    "from qiskit.providers.aer import AerSimulator\n",
    "\n",
    "def dj_problem_oracle(problem):\n",
    "    \"\"\"Returns a 5-qubit Deutsch-Joza Oracle\"\"\"\n",
    "    qc = QuantumCircuit(5)\n",
    "    int(problem)\n",
    "    if problem == 1:\n",
    "        for q in range(4):\n",
    "            qc.cx(q, 4)\n",
    "    elif problem == 2:\n",
    "        qc.cx(0, 4)\n",
    "        qc.cx(0, 4)\n",
    "    elif problem == 3:\n",
    "        qc.cx(2,4)\n",
    "    else:\n",
    "        print(\"There are only currently 3 oracles in this problem set, returning empty (balanced) gate\")\n",
    "    return qc.to_gate()\n",
    "\n",
    "n = int(input())\n",
    "for i in range(n):\n",
    "    problem =  int(input())\n",
    "    xreg = QuantumRegister(4,'x')\n",
    "    yreg = QuantumRegister(1,'y')\n",
    "    creg = ClassicalRegister(4,'c')\n",
    "    qc = QuantumCircuit(xreg,yreg,creg)\n",
    "    qc.h(xreg)\n",
    "    qc.x(yreg)\n",
    "    qc.h(yreg)\n",
    "    qc.barrier()\n",
    "    qc.append(dj_problem_oracle(problem),range(5))\n",
    "    qc.barrier()\n",
    "    qc.h(xreg)\n",
    "    qc.measure(xreg,creg)\n",
    "    #display(qc.draw('mpl'))\n",
    "    sim = AerSimulator()\n",
    "    job = execute(qc,backend=sim,shots=1000)\n",
    "    result = job.result()\n",
    "    counts = result.get_counts(qc)\n",
    "    for count in counts:\n",
    "        print(count)"
   ]
  },
  {
   "cell_type": "code",
   "execution_count": null,
   "id": "a0dd8a88-d57e-4fc4-9de6-34beadd06ff9",
   "metadata": {},
   "outputs": [],
   "source": []
  },
  {
   "cell_type": "code",
   "execution_count": null,
   "id": "324195bf-91ee-43d7-aa12-f6ad5d561d06",
   "metadata": {},
   "outputs": [],
   "source": []
  },
  {
   "cell_type": "code",
   "execution_count": null,
   "id": "0e0bda0d-22ec-4aac-8e00-d3f3c5177c18",
   "metadata": {},
   "outputs": [],
   "source": []
  }
 ],
 "metadata": {
  "kernelspec": {
   "display_name": "Python 3 (ipykernel)",
   "language": "python",
   "name": "python3"
  },
  "language_info": {
   "codemirror_mode": {
    "name": "ipython",
    "version": 3
   },
   "file_extension": ".py",
   "mimetype": "text/x-python",
   "name": "python",
   "nbconvert_exporter": "python",
   "pygments_lexer": "ipython3",
   "version": "3.10.8"
  },
  "widgets": {
   "application/vnd.jupyter.widget-state+json": {
    "state": {},
    "version_major": 2,
    "version_minor": 0
   }
  }
 },
 "nbformat": 4,
 "nbformat_minor": 5
}
