{
 "cells": [
  {
   "cell_type": "code",
   "execution_count": null,
   "id": "9c72a446-33ac-48bf-95ba-9462394ec5f1",
   "metadata": {
    "tags": []
   },
   "outputs": [
    {
     "name": "stdout",
     "output_type": "stream",
     "text": [
      "     ┌─┐      \n",
      "q_0: ┤M├──────\n",
      "     └╥┘┌─┐   \n",
      "q_1: ─╫─┤M├───\n",
      "      ║ └╥┘┌─┐\n",
      "q_2: ─╫──╫─┤M├\n",
      "      ║  ║ └╥┘\n",
      "c: 3/═╩══╩══╩═\n",
      "      0  1  2 \n",
      "Job Status: job is queued (None)"
     ]
    }
   ],
   "source": [
    "#Exercise1-5\n",
    "from qiskit import QuantumCircuit,IBMQ, execute\n",
    "from qiskit_ibm_provider import IBMProvider\n",
    "from qiskit.tools.monitor import job_monitor\n",
    "\n",
    "qc = QuantumCircuit(3,3)\n",
    "qc.measure(range(3), range(3))\n",
    "print(qc)\n",
    "\n",
    "#IBMQ.save_account('808b1af1d3459aaa697882ac562dc2b959a3ab825e49ef749152cddf1ab2ebb99017a4029869a58261f977256aba3310b849b289b44cb465b1547ef1b9c3508a',overwrite=True)\n",
    "#IBMQ.load_account()\n",
    "provider = IBMProvider()\n",
    "qcomp = provider.get_backend('ibm_oslo')\n",
    "job = execute(qc, backend=qcomp, shots=1000)\n",
    "job_monitor(job)\n",
    "result = job.result()\n",
    "counts = result.get_counts(qc)\n",
    "print(\"Total counts for qubit states are:\",counts)"
   ]
  }
 ],
 "metadata": {
  "kernelspec": {
   "display_name": "Python 3 (ipykernel)",
   "language": "python",
   "name": "python3"
  },
  "language_info": {
   "codemirror_mode": {
    "name": "ipython",
    "version": 3
   },
   "file_extension": ".py",
   "mimetype": "text/x-python",
   "name": "python",
   "nbconvert_exporter": "python",
   "pygments_lexer": "ipython3",
   "version": "3.10.8"
  },
  "widgets": {
   "application/vnd.jupyter.widget-state+json": {
    "state": {},
    "version_major": 2,
    "version_minor": 0
   }
  }
 },
 "nbformat": 4,
 "nbformat_minor": 5
}
