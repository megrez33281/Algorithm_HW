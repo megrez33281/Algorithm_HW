{
 "cells": [
  {
   "cell_type": "code",
   "execution_count": null,
   "id": "4caef1f3-94dc-4f60-9a09-91223a79fc55",
   "metadata": {
    "tags": []
   },
   "outputs": [
    {
     "name": "stdout",
     "output_type": "stream",
     "text": [
      "     ┌───────────────────────────────────────────────┐┌─┐\n",
      "  q: ┤ Initialize(0.33333+0.66667j,0.57735+0.33333j) ├┤M├\n",
      "     └───────────────────────────────────────────────┘└╥┘\n",
      "c: 1/══════════════════════════════════════════════════╩═\n",
      "                                                       0 \n",
      "Job Status: job is queued (None)"
     ]
    }
   ],
   "source": [
    "#Exercise2-5\n",
    "from qiskit import QuantumCircuit,IBMQ, execute\n",
    "from qiskit.providers.ibmq import least_busy\n",
    "from qiskit_ibm_provider import IBMProvider\n",
    "from qiskit.tools.monitor import job_monitor\n",
    "import math\n",
    "\n",
    "qc = QuantumCircuit(1,1)\n",
    "qc.initialize([complex(1/3,2/3),complex(math.sqrt(3)/3,1/3)],0)\n",
    "qc.measure([0],[0])\n",
    "print(qc)\n",
    "\n",
    "#IBMQ.save_account('808b1af1d3459aaa697882ac562dc2b959a3ab825e49ef749152cddf1ab2ebb99017a4029869a58261f977256aba3310b849b289b44cb465b1547ef1b9c3508a',overwrite=True)\n",
    "provider = IBMQ.load_account()\n",
    "provider = IBMQ.get_provider(hub=\"ibm-q\", group=\"open\", project=\"main\")\n",
    "qcomp = least_busy(provider.backends(simulator=False))\n",
    "job = execute(qc, backend=qcomp, shots=1000)\n",
    "job_monitor(job)\n",
    "result = job.result()\n",
    "counts = result.get_counts(qc)\n",
    "print(\"Total counts for qubit states are:\",counts)"
   ]
  },
  {
   "cell_type": "code",
   "execution_count": null,
   "id": "2df51186-8af6-4b32-83c1-8a9ea60d13bb",
   "metadata": {},
   "outputs": [],
   "source": []
  }
 ],
 "metadata": {
  "kernelspec": {
   "display_name": "Python 3 (ipykernel)",
   "language": "python",
   "name": "python3"
  },
  "language_info": {
   "codemirror_mode": {
    "name": "ipython",
    "version": 3
   },
   "file_extension": ".py",
   "mimetype": "text/x-python",
   "name": "python",
   "nbconvert_exporter": "python",
   "pygments_lexer": "ipython3",
   "version": "3.10.8"
  },
  "widgets": {
   "application/vnd.jupyter.widget-state+json": {
    "state": {},
    "version_major": 2,
    "version_minor": 0
   }
  }
 },
 "nbformat": 4,
 "nbformat_minor": 5
}
